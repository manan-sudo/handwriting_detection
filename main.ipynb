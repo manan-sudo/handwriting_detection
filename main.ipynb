# %% [markdown]
# # Installing necessary dependencies

# %%

%pip install torch torchvision scikit-learn opencv-python matplotlib


# %% [markdown]
# # Importing Libraries

# %%

import torch
import torch.nn as nn
import torch.optim as optim
from torch.utils.data import DataLoader
from torchvision import datasets, transforms
import numpy as np
import cv2
import matplotlib.pyplot as plt
from sklearn.metrics import classification_report, confusion_matrix



# %% [markdown]
# # Transform for preprocessing

# %%

transform = transforms.Compose([
    transforms.ToTensor(),
    transforms.Normalize((0.5,), (0.5,))  # Normalize between -1 and 1
])

# Download and load dataset
train_dataset = datasets.MNIST(root='./data', train=True, transform=transform, download=True)
test_dataset = datasets.MNIST(root='./data', train=False, transform=transform, download=True)

# Data loaders
train_loader = DataLoader(train_dataset, batch_size=64, shuffle=True)
test_loader = DataLoader(test_dataset, batch_size=64, shuffle=False)

# Check data shapes
print(f"Train data: {len(train_loader.dataset)} samples")
print(f"Test data: {len(test_loader.dataset)} samples")


# %% [markdown]
# # Defining the Neural Network

# %%
class DigitClassifier(nn.Module):
    def __init__(self):
        super(DigitClassifier, self).__init__()
        self.model = nn.Sequential(
            nn.Flatten(),
            nn.Linear(28 * 28, 128),
            nn.ReLU(),
            nn.Linear(128, 64),
            nn.ReLU(),
            nn.Linear(64, 10)  # 10 classes for digits 0-9
        )
    
    def forward(self, x):
        return self.model(x)

# Initialize the model
model = DigitClassifier()
print(model)


# %% [markdown]
# # Define Loss and Optimizer

# %%
# Loss function and optimizer
criterion = nn.CrossEntropyLoss()
optimizer = optim.Adam(model.parameters(), lr=0.001)


# %% [markdown]
# # Training the Model

# %%
# Training loop
epochs = 5
for epoch in range(epochs):
    model.train()
    total_loss = 0
    for images, labels in train_loader:
        optimizer.zero_grad()
        outputs = model(images)
        loss = criterion(outputs, labels)
        loss.backward()
        optimizer.step()
        total_loss += loss.item()
    print(f"Epoch {epoch+1}/{epochs}, Loss: {total_loss / len(train_loader):.4f}")


# %% [markdown]
# # Evaluate the Model

# %%
# Evaluation
model.eval()
y_true, y_pred = [], []

with torch.no_grad():
    for images, labels in test_loader:
        outputs = model(images)
        _, preds = torch.max(outputs, 1)
        y_true.extend(labels.numpy())
        y_pred.extend(preds.numpy())

# Classification report
print(classification_report(y_true, y_pred, digits=4))


# %% [markdown]
# # Test with Custom Handwritten Digits (Using OpenCV)

# %%
# Create a blank black canvas
canvas = np.zeros((280, 280), dtype=np.uint8)  # Black canvas (0 represents black)

# Function to handle mouse events for drawing
def draw(event, x, y, flags, param):
    if event == cv2.EVENT_LBUTTONDOWN or (flags == cv2.EVENT_LBUTTONDOWN and event == cv2.EVENT_MOUSEMOVE):
        cv2.circle(canvas, (x, y), 10, (255, 255, 255), -1)  # Draw white circle (brush) on mouse press or move

# Setup OpenCV window and set callback for mouse event
cv2.namedWindow('Draw a digit')
cv2.setMouseCallback('Draw a digit', draw)

# Draw on canvas until 'Enter' is pressed
while True:
    cv2.imshow('Draw a digit', canvas)
    if cv2.waitKey(1) & 0xFF == 13:  # Press Enter to stop drawing
        break

cv2.destroyAllWindows()

# Preprocess the drawn digit
digit = cv2.resize(canvas, (28, 28))  # Resize to MNIST size

# Add padding to center the digit if needed
top, bottom, left, right = [10, 10, 10, 10]  # Adjust padding if needed
digit = cv2.copyMakeBorder(digit, top, bottom, left, right, cv2.BORDER_CONSTANT, value=0)  # Add padding (black background)
digit = cv2.resize(digit, (28, 28))  # Resize back to 28x28

digit = digit / 255.0  # Normalize to [0, 1] range
digit = torch.tensor(digit, dtype=torch.float32).unsqueeze(0).unsqueeze(0)  # Add batch and channel dimensions

# Prediction using trained model
model.eval()  # Set model to evaluation mode
with torch.no_grad():
    output = model(digit)
    _, prediction = torch.max(output, 1)  # Get predicted class
print(f"Predicted Digit: {prediction.item()}")



